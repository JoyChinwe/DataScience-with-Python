{
 "cells": [
  {
   "cell_type": "code",
   "execution_count": 8,
   "metadata": {},
   "outputs": [
    {
     "name": "stdout",
     "output_type": "stream",
     "text": [
      "-0.9880316240928618\n",
      "4.605170185988092\n",
      "2.0\n",
      "6.0\n",
      "2.718281828459045\n",
      "3.141592653589793\n"
     ]
    }
   ],
   "source": [
    "# To use math function by import math function.\n",
    "import math\n",
    "print(math.sin(30))\n",
    "print(math.log(100))\n",
    "print(math.log10(100))\n",
    "print(math.sqrt(36))  # sqrt is the square root function \n",
    "print(math.exp(1))  # EXP Is the exponential function\n",
    "\n",
    "print(math.pi)"
   ]
  },
  {
   "cell_type": "code",
   "execution_count": 9,
   "metadata": {},
   "outputs": [
    {
     "name": "stdout",
     "output_type": "stream",
     "text": [
      "70\n"
     ]
    }
   ],
   "source": [
    "# Saving data in variable\n",
    "p = 14 *5\n",
    "print(p)"
   ]
  },
  {
   "cell_type": "code",
   "execution_count": 13,
   "metadata": {},
   "outputs": [
    {
     "name": "stdout",
     "output_type": "stream",
     "text": [
      "3.1622776601683795\n"
     ]
    }
   ],
   "source": [
    "import math\n",
    "q=math.sqrt(10)\n",
    "print(q)"
   ]
  },
  {
   "cell_type": "code",
   "execution_count": 15,
   "metadata": {},
   "outputs": [
    {
     "name": "stdout",
     "output_type": "stream",
     "text": [
      "3.1622776601683795\n",
      "11.16227766016838\n",
      "10.000000000000002\n",
      "221.35943621178657\n"
     ]
    }
   ],
   "source": [
    "q=math.sqrt(10)  \n",
    "print(q)\n",
    "# Square root of 10 was stored in q and is 3.1622776601683795\n",
    "# calculate  each variables\n",
    "\n",
    "r = 8 + q\n",
    "s = q**2\n",
    "t = p * q\n",
    "print(r)\n",
    "print(s)\n",
    "print(t)"
   ]
  },
  {
   "cell_type": "code",
   "execution_count": 18,
   "metadata": {},
   "outputs": [
    {
     "name": "stdout",
     "output_type": "stream",
     "text": [
      "73.16227766016839\n",
      "74.16227766016839\n"
     ]
    }
   ],
   "source": [
    "g = p+q\n",
    "G = p+q+1\n",
    "print(g)\n",
    "print(G)"
   ]
  },
  {
   "cell_type": "code",
   "execution_count": null,
   "metadata": {},
   "outputs": [],
   "source": []
  }
 ],
 "metadata": {
  "kernelspec": {
   "display_name": "Python 3",
   "language": "python",
   "name": "python3"
  },
  "language_info": {
   "codemirror_mode": {
    "name": "ipython",
    "version": 3
   },
   "file_extension": ".py",
   "mimetype": "text/x-python",
   "name": "python",
   "nbconvert_exporter": "python",
   "pygments_lexer": "ipython3",
   "version": "3.8.5"
  }
 },
 "nbformat": 4,
 "nbformat_minor": 4
}
