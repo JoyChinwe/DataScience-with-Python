{
 "cells": [
  {
   "cell_type": "code",
   "execution_count": 3,
   "metadata": {},
   "outputs": [
    {
     "data": {
      "text/html": [
       "<div>\n",
       "<style scoped>\n",
       "    .dataframe tbody tr th:only-of-type {\n",
       "        vertical-align: middle;\n",
       "    }\n",
       "\n",
       "    .dataframe tbody tr th {\n",
       "        vertical-align: top;\n",
       "    }\n",
       "\n",
       "    .dataframe thead th {\n",
       "        text-align: right;\n",
       "    }\n",
       "</style>\n",
       "<table border=\"1\" class=\"dataframe\">\n",
       "  <thead>\n",
       "    <tr style=\"text-align: right;\">\n",
       "      <th></th>\n",
       "      <th>Countries</th>\n",
       "    </tr>\n",
       "  </thead>\n",
       "  <tbody>\n",
       "    <tr>\n",
       "      <th>0-19</th>\n",
       "      <td>France</td>\n",
       "    </tr>\n",
       "    <tr>\n",
       "      <th>20-39</th>\n",
       "      <td>Germany</td>\n",
       "    </tr>\n",
       "    <tr>\n",
       "      <th>40-59</th>\n",
       "      <td>Italy</td>\n",
       "    </tr>\n",
       "    <tr>\n",
       "      <th>60-79</th>\n",
       "      <td>Spain</td>\n",
       "    </tr>\n",
       "    <tr>\n",
       "      <th>80+</th>\n",
       "      <td>UK</td>\n",
       "    </tr>\n",
       "  </tbody>\n",
       "</table>\n",
       "</div>"
      ],
      "text/plain": [
       "      Countries\n",
       "0-19     France\n",
       "20-39   Germany\n",
       "40-59     Italy\n",
       "60-79     Spain\n",
       "80+          UK"
      ]
     },
     "execution_count": 3,
     "metadata": {},
     "output_type": "execute_result"
    }
   ],
   "source": [
    "France = [16127955, 15805560, 17386612, 13960064, 4142050]\n",
    "Germany = [15294292, 20447052, 23900423, 17988340, 5389106]\n",
    "Italy = [10859356, 13275488, 18594885, 13299743, 4330074]\n",
    "Spain = [9254305, 11015526, 14787185, 9182427, 2860952]\n",
    "UK = [15746113, 17509234, 17554612, 13284207, 3437008]\n",
    "\n",
    "AgeGroups = [\"0-19\", \"20-39\", \"40-59\", \"60-79\", \"80+\"]\n",
    "Countries = [\"France\", \"Germany\", \"Italy\", \"Spain\", \"Uk\"] \n",
    "\n",
    "import pandas as pd\n",
    "pfName =pd.DataFrame({'Countries': Countries, 'AgeGroup': AgeGroups} )\n",
    "pfName\n"
   ]
  },
  {
   "cell_type": "code",
   "execution_count": 10,
   "metadata": {},
   "outputs": [
    {
     "data": {
      "text/html": [
       "<div>\n",
       "<style scoped>\n",
       "    .dataframe tbody tr th:only-of-type {\n",
       "        vertical-align: middle;\n",
       "    }\n",
       "\n",
       "    .dataframe tbody tr th {\n",
       "        vertical-align: top;\n",
       "    }\n",
       "\n",
       "    .dataframe thead th {\n",
       "        text-align: right;\n",
       "    }\n",
       "</style>\n",
       "<table border=\"1\" class=\"dataframe\">\n",
       "  <thead>\n",
       "    <tr style=\"text-align: right;\">\n",
       "      <th></th>\n",
       "      <th>France</th>\n",
       "      <th>Germany</th>\n",
       "      <th>Italy</th>\n",
       "      <th>Spain</th>\n",
       "      <th>UK</th>\n",
       "    </tr>\n",
       "  </thead>\n",
       "  <tbody>\n",
       "    <tr>\n",
       "      <th>0-19</th>\n",
       "      <td>16127955</td>\n",
       "      <td>15294292</td>\n",
       "      <td>10859356</td>\n",
       "      <td>9254305</td>\n",
       "      <td>15746113</td>\n",
       "    </tr>\n",
       "    <tr>\n",
       "      <th>20-39</th>\n",
       "      <td>15805560</td>\n",
       "      <td>20447052</td>\n",
       "      <td>13275488</td>\n",
       "      <td>11015526</td>\n",
       "      <td>17509234</td>\n",
       "    </tr>\n",
       "    <tr>\n",
       "      <th>40-59</th>\n",
       "      <td>17386612</td>\n",
       "      <td>23900423</td>\n",
       "      <td>18594885</td>\n",
       "      <td>14787185</td>\n",
       "      <td>17554612</td>\n",
       "    </tr>\n",
       "    <tr>\n",
       "      <th>60-79</th>\n",
       "      <td>13960064</td>\n",
       "      <td>17988340</td>\n",
       "      <td>13299743</td>\n",
       "      <td>9182427</td>\n",
       "      <td>13284207</td>\n",
       "    </tr>\n",
       "    <tr>\n",
       "      <th>80+</th>\n",
       "      <td>4142050</td>\n",
       "      <td>5389106</td>\n",
       "      <td>4330074</td>\n",
       "      <td>2860952</td>\n",
       "      <td>3437008</td>\n",
       "    </tr>\n",
       "  </tbody>\n",
       "</table>\n",
       "</div>"
      ],
      "text/plain": [
       "         France   Germany     Italy     Spain        UK\n",
       "0-19   16127955  15294292  10859356   9254305  15746113\n",
       "20-39  15805560  20447052  13275488  11015526  17509234\n",
       "40-59  17386612  23900423  18594885  14787185  17554612\n",
       "60-79  13960064  17988340  13299743   9182427  13284207\n",
       "80+     4142050   5389106   4330074   2860952   3437008"
      ]
     },
     "execution_count": 10,
     "metadata": {},
     "output_type": "execute_result"
    }
   ],
   "source": [
    "import pandas as pd\n",
    "pfName =pd.DataFrame({'France':France,'Germany':Germany, 'Italy':Italy, 'Spain':Spain, 'UK':UK}, index = AgeGroups)\n",
    "pfName"
   ]
  },
  {
   "cell_type": "code",
   "execution_count": 13,
   "metadata": {},
   "outputs": [
    {
     "name": "stdout",
     "output_type": "stream",
     "text": [
      "DataFrame columns Index(['France', 'Germany', 'Italy', 'Spain', 'UK'], dtype='object')\n",
      "DataFrame rows Index(['0-19', '20-39', '40-59', '60-79', '80+'], dtype='object')\n",
      "DataFrame shape is #rows by #columns (5, 5)\n",
      "DataFrame datatypes:\n",
      " France     int64\n",
      "Germany    int64\n",
      "Italy      int64\n",
      "Spain      int64\n",
      "UK         int64\n",
      "dtype: object\n"
     ]
    },
    {
     "data": {
      "text/html": [
       "<div>\n",
       "<style scoped>\n",
       "    .dataframe tbody tr th:only-of-type {\n",
       "        vertical-align: middle;\n",
       "    }\n",
       "\n",
       "    .dataframe tbody tr th {\n",
       "        vertical-align: top;\n",
       "    }\n",
       "\n",
       "    .dataframe thead th {\n",
       "        text-align: right;\n",
       "    }\n",
       "</style>\n",
       "<table border=\"1\" class=\"dataframe\">\n",
       "  <thead>\n",
       "    <tr style=\"text-align: right;\">\n",
       "      <th></th>\n",
       "      <th>France</th>\n",
       "      <th>Germany</th>\n",
       "      <th>Italy</th>\n",
       "      <th>Spain</th>\n",
       "      <th>UK</th>\n",
       "    </tr>\n",
       "  </thead>\n",
       "  <tbody>\n",
       "    <tr>\n",
       "      <th>0-19</th>\n",
       "      <td>16127955</td>\n",
       "      <td>15294292</td>\n",
       "      <td>10859356</td>\n",
       "      <td>9254305</td>\n",
       "      <td>15746113</td>\n",
       "    </tr>\n",
       "    <tr>\n",
       "      <th>20-39</th>\n",
       "      <td>15805560</td>\n",
       "      <td>20447052</td>\n",
       "      <td>13275488</td>\n",
       "      <td>11015526</td>\n",
       "      <td>17509234</td>\n",
       "    </tr>\n",
       "  </tbody>\n",
       "</table>\n",
       "</div>"
      ],
      "text/plain": [
       "         France   Germany     Italy     Spain        UK\n",
       "0-19   16127955  15294292  10859356   9254305  15746113\n",
       "20-39  15805560  20447052  13275488  11015526  17509234"
      ]
     },
     "execution_count": 13,
     "metadata": {},
     "output_type": "execute_result"
    }
   ],
   "source": [
    "# (a) Explore the metadata of the data frame\n",
    "print(\"DataFrame columns\", pfName.columns)\n",
    "print(\"DataFrame rows\",  pfName.index)\n",
    "print(\"DataFrame shape is #rows by #columns\",  pfName.shape)\n",
    "print(\"DataFrame datatypes:\\n\", pfName.dtypes)\n",
    "pfName.head(2)"
   ]
  },
  {
   "cell_type": "code",
   "execution_count": null,
   "metadata": {},
   "outputs": [],
   "source": [
    "#(b) For one country at a time, visualise its age distribution using Pie Charts and Bar\n",
    "#Charts\n",
    "\n",
    "import pandas as pd\n",
    "ax = dfName.plot.pie(y = )"
   ]
  }
 ],
 "metadata": {
  "kernelspec": {
   "display_name": "Python 3",
   "language": "python",
   "name": "python3"
  },
  "language_info": {
   "codemirror_mode": {
    "name": "ipython",
    "version": 3
   },
   "file_extension": ".py",
   "mimetype": "text/x-python",
   "name": "python",
   "nbconvert_exporter": "python",
   "pygments_lexer": "ipython3",
   "version": "3.8.5"
  }
 },
 "nbformat": 4,
 "nbformat_minor": 4
}
