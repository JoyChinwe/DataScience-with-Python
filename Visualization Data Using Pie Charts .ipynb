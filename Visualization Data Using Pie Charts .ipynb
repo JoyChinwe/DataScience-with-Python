{
 "cells": [
  {
   "cell_type": "code",
   "execution_count": 2,
   "metadata": {},
   "outputs": [
    {
     "name": "stdout",
     "output_type": "stream",
     "text": [
      "[73000, 49750, 21000, 18000, 16750, 14500, 9750, 47250]\n",
      "['python', 'Java', 'Javascript', 'C#', 'PHP', 'C?C++', 'R', 'General']\n",
      "[65000, 49750, 2100]\n",
      "250000\n"
     ]
    }
   ],
   "source": [
    "## Set up labels and values in lists\n",
    "Languages = [\"python\",\"Java\",\"Javascript\",\"C#\",\"PHP\",\"C?C++\",\"R\",\"General\"]\n",
    "PostsByLang = [73000,49750,21000,18000,16750,14500,9750,47250 ]\n",
    "\n",
    "PostTypes = [\"Questions\", \"ANSWERS\", \"Tutorials\"]\n",
    "PostsByType =[65000, 49750, 2100]\n",
    "\n",
    "print(PostsByLang)\n",
    "print(Languages)\n",
    "print(PostsByType)\n",
    "print(sum(PostsByLang))\n"
   ]
  },
  {
   "cell_type": "code",
   "execution_count": 16,
   "metadata": {},
   "outputs": [
    {
     "name": "stdout",
     "output_type": "stream",
     "text": [
      "[73000, 49750, 21000, 18000, 16750, 14500, 9750, 47250]\n",
      "[730.  497.5 210.  180.  167.5 145.   97.5 472.5]\n"
     ]
    }
   ],
   "source": [
    "# TO CALCULATE THE PERCENTAGE IN EACH CATEGORY; USING ARRAY \n",
    "\n",
    "import numpy as np\n",
    "percentByLang = np.array(PostsByLang)/100\n",
    "print(PostsByLang)\n",
    "print(percentByLang)"
   ]
  },
  {
   "cell_type": "code",
   "execution_count": 21,
   "metadata": {},
   "outputs": [
    {
     "data": {
      "text/html": [
       "<div>\n",
       "<style scoped>\n",
       "    .dataframe tbody tr th:only-of-type {\n",
       "        vertical-align: middle;\n",
       "    }\n",
       "\n",
       "    .dataframe tbody tr th {\n",
       "        vertical-align: top;\n",
       "    }\n",
       "\n",
       "    .dataframe thead th {\n",
       "        text-align: right;\n",
       "    }\n",
       "</style>\n",
       "<table border=\"1\" class=\"dataframe\">\n",
       "  <thead>\n",
       "    <tr style=\"text-align: right;\">\n",
       "      <th></th>\n",
       "      <th>Lang</th>\n",
       "      <th>PostsByLang</th>\n",
       "    </tr>\n",
       "  </thead>\n",
       "  <tbody>\n",
       "    <tr>\n",
       "      <th>0</th>\n",
       "      <td>python</td>\n",
       "      <td>73000</td>\n",
       "    </tr>\n",
       "    <tr>\n",
       "      <th>1</th>\n",
       "      <td>Java</td>\n",
       "      <td>49750</td>\n",
       "    </tr>\n",
       "    <tr>\n",
       "      <th>2</th>\n",
       "      <td>Javascript</td>\n",
       "      <td>21000</td>\n",
       "    </tr>\n",
       "    <tr>\n",
       "      <th>3</th>\n",
       "      <td>C#</td>\n",
       "      <td>18000</td>\n",
       "    </tr>\n",
       "    <tr>\n",
       "      <th>4</th>\n",
       "      <td>PHP</td>\n",
       "      <td>16750</td>\n",
       "    </tr>\n",
       "    <tr>\n",
       "      <th>5</th>\n",
       "      <td>C?C++</td>\n",
       "      <td>14500</td>\n",
       "    </tr>\n",
       "    <tr>\n",
       "      <th>6</th>\n",
       "      <td>R</td>\n",
       "      <td>9750</td>\n",
       "    </tr>\n",
       "    <tr>\n",
       "      <th>7</th>\n",
       "      <td>General</td>\n",
       "      <td>47250</td>\n",
       "    </tr>\n",
       "  </tbody>\n",
       "</table>\n",
       "</div>"
      ],
      "text/plain": [
       "         Lang  PostsByLang\n",
       "0      python        73000\n",
       "1        Java        49750\n",
       "2  Javascript        21000\n",
       "3          C#        18000\n",
       "4         PHP        16750\n",
       "5       C?C++        14500\n",
       "6           R         9750\n",
       "7     General        47250"
      ]
     },
     "execution_count": 21,
     "metadata": {},
     "output_type": "execute_result"
    }
   ],
   "source": [
    "import pandas as pd\n",
    "dfLang=pd.DataFrame({'Lang':Languages, 'PostsByLang': PostsByLang})\n",
    "dfLang"
   ]
  },
  {
   "cell_type": "code",
   "execution_count": 22,
   "metadata": {},
   "outputs": [
    {
     "data": {
      "text/html": [
       "<div>\n",
       "<style scoped>\n",
       "    .dataframe tbody tr th:only-of-type {\n",
       "        vertical-align: middle;\n",
       "    }\n",
       "\n",
       "    .dataframe tbody tr th {\n",
       "        vertical-align: top;\n",
       "    }\n",
       "\n",
       "    .dataframe thead th {\n",
       "        text-align: right;\n",
       "    }\n",
       "</style>\n",
       "<table border=\"1\" class=\"dataframe\">\n",
       "  <thead>\n",
       "    <tr style=\"text-align: right;\">\n",
       "      <th></th>\n",
       "      <th>Type</th>\n",
       "      <th>PostsByType</th>\n",
       "    </tr>\n",
       "  </thead>\n",
       "  <tbody>\n",
       "    <tr>\n",
       "      <th>0</th>\n",
       "      <td>Questions</td>\n",
       "      <td>65000</td>\n",
       "    </tr>\n",
       "    <tr>\n",
       "      <th>1</th>\n",
       "      <td>ANSWERS</td>\n",
       "      <td>49750</td>\n",
       "    </tr>\n",
       "    <tr>\n",
       "      <th>2</th>\n",
       "      <td>Tutorials</td>\n",
       "      <td>2100</td>\n",
       "    </tr>\n",
       "  </tbody>\n",
       "</table>\n",
       "</div>"
      ],
      "text/plain": [
       "        Type  PostsByType\n",
       "0  Questions        65000\n",
       "1    ANSWERS        49750\n",
       "2  Tutorials         2100"
      ]
     },
     "execution_count": 22,
     "metadata": {},
     "output_type": "execute_result"
    }
   ],
   "source": [
    "dfType= pd.DataFrame({'Type':PostTypes, 'PostsByType':PostsByType})\n",
    "dfType"
   ]
  },
  {
   "cell_type": "code",
   "execution_count": 32,
   "metadata": {},
   "outputs": [
    {
     "data": {
      "image/png": "[encoded data removed]",
      "text/plain": [
       "<Figure size 432x288 with 1 Axes>"
      ]
     },
     "metadata": {},
     "output_type": "display_data"
    }
   ],
   "source": [
    "# Pie chart using matplotlib\n",
    "\n",
    "import matplotlib.pyplot as plt\n",
    "plt.pie(PostsByLang)\n",
    "plt.pie(PostsByLang, labels=Languages)\n",
    "plt.pie(PostsByLang, labels=Languages, autopct='%1.0f%%')\n",
    "plt.legend(Languages, title=\"Languages\")\n",
    "plt.show()"
   ]
  },
  {
   "cell_type": "code",
   "execution_count": null,
   "metadata": {},
   "outputs": [],
   "source": []
  }
 ],
 "metadata": {
  "kernelspec": {
   "display_name": "Python 3",
   "language": "python",
   "name": "python3"
  },
  "language_info": {
   "codemirror_mode": {
    "name": "ipython",
    "version": 3
   },
   "file_extension": ".py",
   "mimetype": "text/x-python",
   "name": "python",
   "nbconvert_exporter": "python",
   "pygments_lexer": "ipython3",
   "version": "3.8.5"
  }
 },
 "nbformat": 4,
 "nbformat_minor": 4
}
